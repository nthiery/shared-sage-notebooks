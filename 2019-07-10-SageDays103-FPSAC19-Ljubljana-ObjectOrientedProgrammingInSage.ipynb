{
 "cells": [
  {
   "cell_type": "code",
   "execution_count": null,
   "metadata": {},
   "outputs": [],
   "source": [
    "class Sets(Category):\n",
    "    \n",
    "    class ParentMethods:\n",
    "        def cardinality():\n",
    "            pass\n",
    "    \n",
    "class Magmas(Category):\n",
    "    def super_categories(self):\n",
    "        return [Sets()]\n",
    "    class ParentMethods:\n",
    "        pass\n",
    "    class ElementMethods:\n",
    "        pass\n",
    "\n",
    "class Semigroups(Category):\n",
    "    def super_categories(self):\n",
    "        return [Magmas()]\n",
    "\n",
    "    class ParentMethods:\n",
    "        def cayley_graph(self):\n",
    "            pass\n",
    "\n",
    "    class Elementmethods:\n",
    "        def __pow__(self, n):\n",
    "            assert n == 4\n",
    "            x = self\n",
    "            x = x * x \n",
    "            x = x * x\n",
    "            return x    "
   ]
  },
  {
   "cell_type": "code",
   "execution_count": 163,
   "metadata": {},
   "outputs": [],
   "source": [
    "class MySemigroup(UniqueRepresentation, Parent):\n",
    "    def __init__(self, l):\n",
    "        Parent.__init__(self, category=Semigroups().Finite())\n",
    "        self.l = l\n",
    "    def __repr__(self):\n",
    "        return \"Semigroup with elements {}\".format(self.l)\n",
    "    \n",
    "    class Element(ElementWrapper):\n",
    "        def __mul__(self, other):\n",
    "            return self"
   ]
  },
  {
   "cell_type": "code",
   "execution_count": null,
   "metadata": {},
   "outputs": [],
   "source": [
    "class MySet(Parent):\n",
    "    def __init__(self):\n",
    "        Parent.__init__(self, category= Sets().Finite().Enumerated())\n",
    "    def __iter__(self):\n",
    "        ....\n",
    "    class Element:\n",
    "        ..."
   ]
  },
  {
   "cell_type": "code",
   "execution_count": 164,
   "metadata": {},
   "outputs": [
    {
     "data": {
      "text/plain": [
       "Semigroup with elements (1, 2, 3, 5, 8)"
      ]
     },
     "execution_count": 164,
     "metadata": {},
     "output_type": "execute_result"
    }
   ],
   "source": [
    "C = MySemigroup((1,2,3,5,8))\n",
    "C"
   ]
  },
  {
   "cell_type": "code",
   "execution_count": 166,
   "metadata": {},
   "outputs": [
    {
     "name": "stdout",
     "output_type": "stream",
     "text": [
      "running ._test_an_element() . . . pass\n",
      "running ._test_associativity() . . . pass\n",
      "running ._test_cardinality() . . . pass\n",
      "running ._test_category() . . . pass\n",
      "running ._test_elements() . . .\n",
      "  Running the test suite of self.an_element()\n",
      "  running ._test_category() . . . pass\n",
      "  running ._test_eq() . . . pass\n",
      "  running ._test_new() . . . pass\n",
      "  running ._test_not_implemented_methods() . . . pass\n",
      "  running ._test_pickling() . . . pass\n",
      "  pass\n",
      "running ._test_elements_eq_reflexive() . . . pass\n",
      "running ._test_elements_eq_symmetric() . . . pass\n",
      "running ._test_elements_eq_transitive() . . . pass\n",
      "running ._test_elements_neq() . . . pass\n",
      "running ._test_eq() . . . pass\n",
      "running ._test_new() . . . pass\n",
      "running ._test_not_implemented_methods() . . . pass\n",
      "running ._test_pickling() . . . pass\n",
      "running ._test_some_elements() . . . pass\n"
     ]
    }
   ],
   "source": [
    "TestSuite(C).run(verbose=True)"
   ]
  },
  {
   "cell_type": "code",
   "execution_count": 148,
   "metadata": {},
   "outputs": [
    {
     "data": {
      "text/plain": [
       "Semigroup with elements (1, 2, 3, 5, 8)"
      ]
     },
     "execution_count": 148,
     "metadata": {},
     "output_type": "execute_result"
    }
   ],
   "source": [
    "D = MySemigroup((1,2,3,5,8))\n",
    "D"
   ]
  },
  {
   "cell_type": "code",
   "execution_count": 150,
   "metadata": {},
   "outputs": [
    {
     "data": {
      "text/plain": [
       "(True, True)"
      ]
     },
     "execution_count": 150,
     "metadata": {},
     "output_type": "execute_result"
    }
   ],
   "source": [
    "C is D, C == D"
   ]
  },
  {
   "cell_type": "code",
   "execution_count": 131,
   "metadata": {},
   "outputs": [],
   "source": [
    "c = C(3)\n",
    "d = C(5)"
   ]
  },
  {
   "cell_type": "code",
   "execution_count": 132,
   "metadata": {},
   "outputs": [
    {
     "data": {
      "text/plain": [
       "3"
      ]
     },
     "execution_count": 132,
     "metadata": {},
     "output_type": "execute_result"
    }
   ],
   "source": [
    "c * d"
   ]
  },
  {
   "cell_type": "code",
   "execution_count": 134,
   "metadata": {},
   "outputs": [
    {
     "data": {
      "text/plain": [
       "5"
      ]
     },
     "execution_count": 134,
     "metadata": {},
     "output_type": "execute_result"
    }
   ],
   "source": [
    "d * c"
   ]
  },
  {
   "cell_type": "code",
   "execution_count": 135,
   "metadata": {},
   "outputs": [
    {
     "data": {
      "text/plain": [
       "5"
      ]
     },
     "execution_count": 135,
     "metadata": {},
     "output_type": "execute_result"
    }
   ],
   "source": [
    "d^4"
   ]
  },
  {
   "cell_type": "code",
   "execution_count": 152,
   "metadata": {},
   "outputs": [
    {
     "data": {
      "text/plain": [
       "<type 'sage.misc.classcall_metaclass.ClasscallMetaclass'>"
      ]
     },
     "execution_count": 152,
     "metadata": {},
     "output_type": "execute_result"
    }
   ],
   "source": [
    "MySemigroup.__class__"
   ]
  },
  {
   "cell_type": "code",
   "execution_count": 77,
   "metadata": {},
   "outputs": [
    {
     "data": {
      "text/plain": [
       "15"
      ]
     },
     "execution_count": 77,
     "metadata": {},
     "output_type": "execute_result"
    }
   ],
   "source": [
    "c.value * d.value"
   ]
  },
  {
   "cell_type": "code",
   "execution_count": 62,
   "metadata": {},
   "outputs": [
    {
     "data": {
      "text/plain": [
       "Semigroup with elements [1, 2, 3, 5, 8]"
      ]
     },
     "execution_count": 62,
     "metadata": {},
     "output_type": "execute_result"
    }
   ],
   "source": [
    "c.parent()"
   ]
  },
  {
   "cell_type": "code",
   "execution_count": null,
   "metadata": {},
   "outputs": [],
   "source": []
  },
  {
   "cell_type": "code",
   "execution_count": 63,
   "metadata": {},
   "outputs": [],
   "source": [
    "F = FiniteField(5)"
   ]
  },
  {
   "cell_type": "code",
   "execution_count": 64,
   "metadata": {},
   "outputs": [
    {
     "data": {
      "text/plain": [
       "2"
      ]
     },
     "execution_count": 64,
     "metadata": {},
     "output_type": "execute_result"
    }
   ],
   "source": [
    "F(12)"
   ]
  },
  {
   "cell_type": "code",
   "execution_count": 154,
   "metadata": {},
   "outputs": [],
   "source": [
    "from sage.categories.commutative_additive_groups import CommutativeAdditiveGroups"
   ]
  },
  {
   "cell_type": "code",
   "execution_count": 158,
   "metadata": {},
   "outputs": [],
   "source": [
    "C = (CommutativeAdditiveGroups() & Monoids()).Distributive()"
   ]
  },
  {
   "cell_type": "code",
   "execution_count": 159,
   "metadata": {},
   "outputs": [
    {
     "data": {
      "text/plain": [
       "frozenset({'AdditiveAssociative',\n",
       "           'AdditiveCommutative',\n",
       "           'AdditiveInverse',\n",
       "           'AdditiveUnital',\n",
       "           'Associative',\n",
       "           'Distributive',\n",
       "           'Unital'})"
      ]
     },
     "execution_count": 159,
     "metadata": {},
     "output_type": "execute_result"
    }
   ],
   "source": [
    "C.axioms()"
   ]
  },
  {
   "cell_type": "code",
   "execution_count": 160,
   "metadata": {},
   "outputs": [
    {
     "data": {
      "text/plain": [
       "frozenset({Category of additive unital additive magmas,\n",
       "           Category of additive magmas,\n",
       "           Category of unital magmas,\n",
       "           Category of magmas,\n",
       "           Category of sets with partial maps,\n",
       "           Category of sets})"
      ]
     },
     "execution_count": 160,
     "metadata": {},
     "output_type": "execute_result"
    }
   ],
   "source": [
    "C.structure()"
   ]
  },
  {
   "cell_type": "code",
   "execution_count": 161,
   "metadata": {},
   "outputs": [
    {
     "data": {
      "text/plain": [
       "Category of finite enumerated fields"
      ]
     },
     "execution_count": 161,
     "metadata": {},
     "output_type": "execute_result"
    }
   ],
   "source": [
    "C.Division() & Sets().Finite()"
   ]
  },
  {
   "cell_type": "code",
   "execution_count": 162,
   "metadata": {},
   "outputs": [
    {
     "data": {
      "text/plain": [
       "Category of rings"
      ]
     },
     "execution_count": 162,
     "metadata": {},
     "output_type": "execute_result"
    }
   ],
   "source": [
    "C"
   ]
  },
  {
   "cell_type": "code",
   "execution_count": 167,
   "metadata": {},
   "outputs": [],
   "source": [
    "G = DihedralGroup(5)"
   ]
  },
  {
   "cell_type": "code",
   "execution_count": 168,
   "metadata": {},
   "outputs": [
    {
     "name": "stdout",
     "output_type": "stream",
     "text": [
      "running ._test_an_element() . . . pass\n",
      "running ._test_associativity() . . . pass\n",
      "running ._test_cardinality() . . . pass\n",
      "running ._test_category() . . . pass\n",
      "running ._test_elements() . . .\n",
      "  Running the test suite of self.an_element()\n",
      "  running ._test_category() . . . pass\n",
      "  running ._test_eq() . . . pass\n",
      "  running ._test_new() . . . pass\n",
      "  running ._test_not_implemented_methods() . . . pass\n",
      "  running ._test_pickling() . . . pass\n",
      "  pass\n",
      "running ._test_elements_eq_reflexive() . . . pass\n",
      "running ._test_elements_eq_symmetric() . . . pass\n",
      "running ._test_elements_eq_transitive() . . . pass\n",
      "running ._test_elements_neq() . . . pass\n",
      "running ._test_enumerated_set_contains() . . . pass\n",
      "running ._test_enumerated_set_iter_cardinality() . . . pass\n",
      "running ._test_enumerated_set_iter_list() . . . pass\n",
      "running ._test_eq() . . . pass\n",
      "running ._test_inverse() . . . pass\n",
      "running ._test_new() . . . pass\n",
      "running ._test_not_implemented_methods() . . . pass\n",
      "running ._test_one() . . . pass\n",
      "running ._test_pickling() . . . pass\n",
      "running ._test_prod() . . . pass\n",
      "running ._test_some_elements() . . . pass\n"
     ]
    }
   ],
   "source": [
    "TestSuite(G).run(verbose=True)"
   ]
  },
  {
   "cell_type": "code",
   "execution_count": null,
   "metadata": {},
   "outputs": [],
   "source": []
  }
 ],
 "metadata": {
  "kernelspec": {
   "display_name": "SageMath 8.8.beta7",
   "language": "sage",
   "name": "sagemath"
  },
  "language_info": {
   "codemirror_mode": {
    "name": "ipython",
    "version": 2
   },
   "file_extension": ".py",
   "mimetype": "text/x-python",
   "name": "python",
   "nbconvert_exporter": "python",
   "pygments_lexer": "ipython2",
   "version": "2.7.15"
  }
 },
 "nbformat": 4,
 "nbformat_minor": 2
}
