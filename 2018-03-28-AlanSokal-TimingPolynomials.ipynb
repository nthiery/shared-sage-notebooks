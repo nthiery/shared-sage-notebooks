{
 "cells": [
  {
   "cell_type": "markdown",
   "metadata": {},
   "source": [
    "# Some univariate polynomial benchmarks\n",
    "[![Binder](https://mybinder.org/badge.svg)](https://mybinder.org/v2/gh/nthiery/shared-sage-notebooks/master?filepath=2018-03-28-AlanSokal-TimingPolynomials.ipynb)\n",
    "For an application to the computation of implicitly defined series with polynomial coefficients,\n",
    "Alan Sokal was interested in how Mathematica and SageMath compared on arithmetic of\n",
    "large univariate polynomials with large integer coefficients.\n",
    "So we did together the following basic benchmarking of Sage's univariate polynomials (actually FLINT)."
   ]
  },
  {
   "cell_type": "code",
   "execution_count": 1,
   "metadata": {},
   "outputs": [],
   "source": [
    "import time\n",
    "def f(p, n):\n",
    "    \"\"\"\n",
    "    Return p^{2^n} together with timing\n",
    "    \"\"\"\n",
    "    times = []\n",
    "    t = time.clock()\n",
    "    for i in range(n):\n",
    "        p = p*p\n",
    "        t2 = time.clock()\n",
    "        times.append(t2-t)\n",
    "        print i, t2-t\n",
    "        t = t2\n",
    "    return p, times"
   ]
  },
  {
   "cell_type": "code",
   "execution_count": 2,
   "metadata": {},
   "outputs": [],
   "source": [
    "P = ZZ['x']"
   ]
  },
  {
   "cell_type": "code",
   "execution_count": 3,
   "metadata": {},
   "outputs": [],
   "source": [
    "x = P.gen()"
   ]
  },
  {
   "cell_type": "code",
   "execution_count": 4,
   "metadata": {},
   "outputs": [],
   "source": [
    "p = 2*x+3"
   ]
  },
  {
   "cell_type": "code",
   "execution_count": 5,
   "metadata": {},
   "outputs": [
    {
     "data": {
      "text/plain": [
       "(2*x + 3, [])"
      ]
     },
     "execution_count": 5,
     "metadata": {},
     "output_type": "execute_result"
    }
   ],
   "source": [
    "f(p, 0)"
   ]
  },
  {
   "cell_type": "code",
   "execution_count": 6,
   "metadata": {},
   "outputs": [
    {
     "name": "stdout",
     "output_type": "stream",
     "text": [
      "0 1.6e-05\n"
     ]
    },
    {
     "data": {
      "text/plain": [
       "(4*x^2 + 12*x + 9, [1.6000000000016e-05])"
      ]
     },
     "execution_count": 6,
     "metadata": {},
     "output_type": "execute_result"
    }
   ],
   "source": [
    "f(p,1)"
   ]
  },
  {
   "cell_type": "code",
   "execution_count": 7,
   "metadata": {},
   "outputs": [
    {
     "name": "stdout",
     "output_type": "stream",
     "text": [
      "0 1.3e-05\n",
      "1 0.000171\n",
      "2 0.000326\n",
      "3 0.000223\n",
      "4 0.000141\n",
      "5 0.000128\n",
      "6 0.000606\n",
      "7 0.000381\n",
      "8 0.002856\n",
      "9 0.003318\n",
      "10 0.015733\n",
      "11 0.075643\n",
      "12 0.323055\n",
      "13 1.315081\n",
      "14 5.757541\n"
     ]
    },
    {
     "data": {
      "text/plain": [
       "[1.3000000000040757e-05,\n",
       " 0.00017099999999992122,\n",
       " 0.00032599999999982643,\n",
       " 0.00022300000000008424,\n",
       " 0.00014100000000016877,\n",
       " 0.00012799999999968392,\n",
       " 0.0006059999999998844,\n",
       " 0.0003810000000004088,\n",
       " 0.0028559999999999697,\n",
       " 0.00331799999999971,\n",
       " 0.015732999999999997,\n",
       " 0.07564300000000035,\n",
       " 0.32305499999999965,\n",
       " 1.3150809999999997,\n",
       " 5.757541000000001]"
      ]
     },
     "execution_count": 7,
     "metadata": {},
     "output_type": "execute_result"
    }
   ],
   "source": [
    "p, timings = f(p, 15); timings"
   ]
  },
  {
   "cell_type": "code",
   "execution_count": 11,
   "metadata": {},
   "outputs": [
    {
     "data": {
      "image/png": "[encoded data removed]",
      "text/plain": [
       "Graphics object consisting of 1 graphics primitive"
      ]
     },
     "execution_count": 11,
     "metadata": {},
     "output_type": "execute_result"
    }
   ],
   "source": [
    "points(enumerate(timings))"
   ]
  },
  {
   "cell_type": "markdown",
   "metadata": {},
   "source": [
    "We could not computer further, because running out of memory.\n",
    "\n",
    "**Interpretation**: the main limitation for computing with polynomials with large coefficients is the memory size."
   ]
  },
  {
   "cell_type": "code",
   "execution_count": 2,
   "metadata": {},
   "outputs": [],
   "source": [
    "def pone(n):\n",
    "    \"\"\"Returns 1+x+...+x^k\"\"\"\n",
    "    return P([1]*n)"
   ]
  },
  {
   "cell_type": "code",
   "execution_count": 33,
   "metadata": {},
   "outputs": [
    {
     "name": "stdout",
     "output_type": "stream",
     "text": [
      "CPU times: user 1.47 s, sys: 124 ms, total: 1.59 s\n",
      "Wall time: 1.59 s\n"
     ]
    }
   ],
   "source": [
    "n = 23\n",
    "p = pone(2^n)\n",
    "%time _ = p*p;"
   ]
  },
  {
   "cell_type": "code",
   "execution_count": 30,
   "metadata": {},
   "outputs": [
    {
     "name": "stdout",
     "output_type": "stream",
     "text": [
      "CPU times: user 3.18 s, sys: 212 ms, total: 3.39 s\n",
      "Wall time: 3.39 s\n"
     ]
    }
   ],
   "source": [
    "n = 24\n",
    "p = pone(2^n)\n",
    "%time _ = p*p;"
   ]
  },
  {
   "cell_type": "code",
   "execution_count": 31,
   "metadata": {},
   "outputs": [
    {
     "name": "stdout",
     "output_type": "stream",
     "text": [
      "CPU times: user 6.66 s, sys: 444 ms, total: 7.11 s\n",
      "Wall time: 7.11 s\n"
     ]
    }
   ],
   "source": [
    "n = 25\n",
    "p = pone(2^n)\n",
    "%time _ = p*p;"
   ]
  },
  {
   "cell_type": "markdown",
   "metadata": {},
   "source": [
    "**Interpretation**: for polyomials with small coefficients, the complexity of multiplication is roughly linear in the degree."
   ]
  }
 ],
 "metadata": {
  "kernelspec": {
   "display_name": "SageMath 8.2.beta3",
   "language": "",
   "name": "sagemath"
  },
  "language_info": {
   "codemirror_mode": {
    "name": "ipython",
    "version": 2
   },
   "file_extension": ".py",
   "mimetype": "text/x-python",
   "name": "python",
   "nbconvert_exporter": "python",
   "pygments_lexer": "ipython2",
   "version": "2.7.14"
  }
 },
 "nbformat": 4,
 "nbformat_minor": 2
}
